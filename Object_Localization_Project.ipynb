{
  "cells": [
    {
      "cell_type": "markdown",
      "metadata": {
        "id": "view-in-github",
        "colab_type": "text"
      },
      "source": [
        "<a href=\"https://colab.research.google.com/github/iHev10/Object-Localization-from-scratch/blob/main/Object_Localization_Project.ipynb\" target=\"_parent\"><img src=\"https://colab.research.google.com/assets/colab-badge.svg\" alt=\"Open In Colab\"/></a>"
      ]
    },
    {
      "cell_type": "code",
      "execution_count": 1,
      "metadata": {
        "id": "yFHzXA40ra58"
      },
      "outputs": [],
      "source": [
        "# import libraries\n",
        "import numpy as np\n",
        "import pandas as pd\n",
        "import matplotlib.pyplot as plt\n",
        "\n",
        "import cv2\n",
        "\n",
        "import tensorflow as tf\n",
        "import keras\n",
        "\n",
        "from keras.preprocessing import image\n",
        "from keras.applications.vgg16 import VGG16\n",
        "from keras.layers import Dense, Flatten\n",
        "from keras.models import Model"
      ]
    },
    {
      "cell_type": "markdown",
      "metadata": {
        "id": "HUx06aMhTyzt"
      },
      "source": [
        "# Identify actual boxes"
      ]
    },
    {
      "cell_type": "code",
      "execution_count": null,
      "metadata": {
        "id": "uEJ-OOK5sJ8-"
      },
      "outputs": [],
      "source": [
        "def data_generator(batch_size=64):\n",
        "  # generate data\n",
        "  while True:\n",
        "\n",
        "    for _ in range(50):\n",
        "      # generate images and targets\n",
        "      x = np.zeros((batch_size, 100, 100, 3))\n",
        "      y = np.zeros((batch_size, 4))\n",
        "\n",
        "      for n in range(batch_size):\n",
        "        # make random boxes and store their locations\n",
        "        row_0 = np.random.randint(0, 90)\n",
        "        col_0 = np.random.randint(0, 90)\n",
        "        row_1 = np.random.randint(row_0, 100)\n",
        "        col_1 = np.random.randint(col_0, 100)\n",
        "\n",
        "        x[n, row_0:row_1, col_0:col_1, :] = 1\n",
        "\n",
        "        # normalize the cordinates\n",
        "        y[n, 0] = row_0 / 100. # top row\n",
        "        y[n, 1] = col_0 / 100. # left col\n",
        "        y[n, 2] = (row_1 - row_0) / 100. # height\n",
        "        y[n, 3] = (col_1 - col_0) / 100. # width\n",
        "\n",
        "      yield x, y"
      ]
    },
    {
      "cell_type": "code",
      "execution_count": null,
      "metadata": {
        "id": "ehLHqVMEvFKo"
      },
      "outputs": [],
      "source": [
        "# create the model\n",
        "vgg = VGG16(input_shape=(100, 100, 3), include_top=False, weights=\"imagenet\")\n",
        "x = Flatten()(vgg.output)\n",
        "x = Dense(4, activation=\"sigmoid\")(x)\n",
        "\n",
        "model = Model(vgg.input, x)\n",
        "model.compile(loss=\"binary_crossentropy\", optimizer=\"adam\")"
      ]
    },
    {
      "cell_type": "code",
      "execution_count": null,
      "metadata": {
        "colab": {
          "base_uri": "https://localhost:8080/"
        },
        "id": "LLsquAi5wPNW",
        "outputId": "8614bb6a-ee15-49b2-a6d0-247f2dc0c689"
      },
      "outputs": [
        {
          "name": "stdout",
          "output_type": "stream",
          "text": [
            "Epoch 1/10\n",
            "50/50 [==============================] - 14s 192ms/step - loss: 0.6056\n",
            "Epoch 2/10\n",
            "50/50 [==============================] - 10s 196ms/step - loss: 0.5165\n",
            "Epoch 3/10\n",
            "50/50 [==============================] - 10s 190ms/step - loss: 0.5098\n",
            "Epoch 4/10\n",
            "50/50 [==============================] - 10s 192ms/step - loss: 0.5063\n",
            "Epoch 5/10\n",
            "50/50 [==============================] - 9s 184ms/step - loss: 0.5057\n",
            "Epoch 6/10\n",
            "50/50 [==============================] - 9s 183ms/step - loss: 0.5074\n",
            "Epoch 7/10\n",
            "50/50 [==============================] - 9s 184ms/step - loss: 0.5051\n",
            "Epoch 8/10\n",
            "50/50 [==============================] - 9s 188ms/step - loss: 0.5036\n",
            "Epoch 9/10\n",
            "50/50 [==============================] - 9s 186ms/step - loss: 0.5046\n",
            "Epoch 10/10\n",
            "50/50 [==============================] - 9s 186ms/step - loss: 0.5022\n"
          ]
        },
        {
          "data": {
            "text/plain": [
              "<keras.src.callbacks.History at 0x7c4398219e10>"
            ]
          },
          "execution_count": 56,
          "metadata": {},
          "output_type": "execute_result"
        }
      ],
      "source": [
        "model.fit(data_generator(), steps_per_epoch=50, epochs=10)"
      ]
    },
    {
      "cell_type": "code",
      "execution_count": null,
      "metadata": {
        "id": "iKcFW7d0wXUW"
      },
      "outputs": [],
      "source": [
        "def plot_predictions():\n",
        "  # generate a random image\n",
        "  img = np.zeros((100, 100, 3))\n",
        "  row_0 = np.random.randint(0, 90)\n",
        "  col_0 = np.random.randint(0, 90)\n",
        "  row_1 = np.random.randint(row_0, 100)\n",
        "  col_1 = np.random.randint(col_0, 100)\n",
        "\n",
        "  img[row_0:row_1, col_0:col_1, :] = 1\n",
        "\n",
        "  # make predictions\n",
        "  x = np.expand_dims(img, 0)\n",
        "  x_0, y_0, h, w = model.predict(x)[0]\n",
        "\n",
        "  x_0 =int(x_0 * 100)\n",
        "  y_0 = int(y_0 * 100)\n",
        "  h = int(h * 100)\n",
        "  w = int(w * 100)\n",
        "\n",
        "  print(x_0, y_0, h, w)\n",
        "  # draw the box\n",
        "  cv2.rectangle(img, (y_0, x_0), (y_0 + w, x_0 + h), color=(255, 0, 0))\n",
        "  plt.imshow(img)\n",
        "  plt.title(\"predicted boxes\")\n"
      ]
    },
    {
      "cell_type": "code",
      "execution_count": null,
      "metadata": {
        "colab": {
          "base_uri": "https://localhost:8080/",
          "height": 504
        },
        "id": "oZORyKMj9h7v",
        "outputId": "7d3eeb26-2c16-4123-d8b4-cd100beb0394"
      },
      "outputs": [
        {
          "name": "stdout",
          "output_type": "stream",
          "text": [
            "1/1 [==============================] - 0s 19ms/step\n"
          ]
        },
        {
          "name": "stderr",
          "output_type": "stream",
          "text": [
            "WARNING:matplotlib.image:Clipping input data to the valid range for imshow with RGB data ([0..1] for floats or [0..255] for integers).\n"
          ]
        },
        {
          "name": "stdout",
          "output_type": "stream",
          "text": [
            "27 66 62 15\n"
          ]
        },
        {
          "data": {
            "image/png": "[encoded data removed]",
            "text/plain": [
              "<Figure size 640x480 with 1 Axes>"
            ]
          },
          "metadata": {},
          "output_type": "display_data"
        }
      ],
      "source": [
        "plot_predictions()"
      ]
    },
    {
      "cell_type": "markdown",
      "metadata": {
        "id": "NeQg3mHqT9qi"
      },
      "source": [
        "# Locate an actual object"
      ]
    },
    {
      "cell_type": "code",
      "execution_count": 2,
      "metadata": {
        "colab": {
          "base_uri": "https://localhost:8080/"
        },
        "id": "jupRGV3jQ638",
        "outputId": "d245fd14-f7c8-44fa-baff-9e6dbf3cfb15"
      },
      "outputs": [
        {
          "output_type": "stream",
          "name": "stdout",
          "text": [
            "--2024-02-08 19:45:12--  https://lazyprogrammer.me/course_files/charmander-tight.png\n",
            "Resolving lazyprogrammer.me (lazyprogrammer.me)... 104.21.23.210, 172.67.213.166, 2606:4700:3031::6815:17d2, ...\n",
            "Connecting to lazyprogrammer.me (lazyprogrammer.me)|104.21.23.210|:443... connected.\n",
            "HTTP request sent, awaiting response... 200 OK\n",
            "Length: 3952 (3.9K) [image/png]\n",
            "Saving to: ‘charmander-tight.png’\n",
            "\n",
            "charmander-tight.pn 100%[===================>]   3.86K  --.-KB/s    in 0s      \n",
            "\n",
            "2024-02-08 19:45:13 (63.8 MB/s) - ‘charmander-tight.png’ saved [3952/3952]\n",
            "\n"
          ]
        }
      ],
      "source": [
        "# download a target image\n",
        "!wget -nc https://lazyprogrammer.me/course_files/charmander-tight.png"
      ]
    },
    {
      "cell_type": "code",
      "execution_count": 3,
      "metadata": {
        "colab": {
          "base_uri": "https://localhost:8080/",
          "height": 449
        },
        "id": "LfhQcwqfI9Pt",
        "outputId": "7a7abec4-fe38-4e0e-c39a-b1110bffa5f7"
      },
      "outputs": [
        {
          "output_type": "execute_result",
          "data": {
            "text/plain": [
              "<matplotlib.image.AxesImage at 0x7c97e40a1540>"
            ]
          },
          "metadata": {},
          "execution_count": 3
        },
        {
          "output_type": "display_data",
          "data": {
            "text/plain": [
              "<Figure size 640x480 with 1 Axes>"
            ],
            "image/png": "[encoded data removed]"
          },
          "metadata": {}
        }
      ],
      "source": [
        "# load and show the object\n",
        "object_img = image.load_img(\"charmander-tight.png\")\n",
        "object_img = np.array(object_img)\n",
        "plt.imshow(object_img)"
      ]
    },
    {
      "cell_type": "code",
      "execution_count": 11,
      "metadata": {
        "id": "7aMLA6WCOFLB"
      },
      "outputs": [],
      "source": [
        "H, W = 300, 300 # size of full image\n",
        "CH_H, CH_W = object_img.shape[:2] # size of object\n",
        "\n",
        "def data_generator(batch_size=64, object=object_img, H=H, W=W, CH_H=CH_H, CH_W=CH_W):\n",
        "\n",
        "  # generate data\n",
        "  while True:\n",
        "\n",
        "    for _ in range(50):\n",
        "      # generate images and targets\n",
        "      x = np.zeros((batch_size, H, W, 3))\n",
        "      y = np.zeros((batch_size, 4))\n",
        "\n",
        "      for n in range(batch_size):\n",
        "        # make an image with an object in a random location\n",
        "        row_0 = np.random.randint(0, H - CH_H)\n",
        "        col_0 = np.random.randint(0, W - CH_W)\n",
        "        row_1 = row_0 + CH_H\n",
        "        col_1 = col_0 + CH_W\n",
        "\n",
        "        x[n, row_0:row_1, col_0:col_1, :] = object[:, :, :3]\n",
        "\n",
        "        # normalize the cordinates\n",
        "        y[n, 0] = row_0 / H # top row\n",
        "        y[n, 1] = col_0 / W # left col\n",
        "        y[n, 2] = CH_H / H # height\n",
        "        y[n, 3] = CH_W / W # width\n",
        "\n",
        "      yield x, y"
      ]
    },
    {
      "cell_type": "code",
      "execution_count": 12,
      "metadata": {
        "id": "6IShoRHdU3M_"
      },
      "outputs": [],
      "source": [
        "# create the model\n",
        "vgg = VGG16(input_shape=(H, W, 3), include_top=False, weights=\"imagenet\")\n",
        "x = Flatten()(vgg.output)\n",
        "x = Dense(4, activation=\"sigmoid\")(x)\n",
        "\n",
        "model = Model(vgg.input, x)\n",
        "model.compile(loss=\"binary_crossentropy\", optimizer=\"adam\")"
      ]
    },
    {
      "cell_type": "code",
      "execution_count": 13,
      "metadata": {
        "colab": {
          "base_uri": "https://localhost:8080/"
        },
        "id": "ZdU6Cev-U6Kz",
        "outputId": "5683e01c-19c3-4771-ce17-b255bc9b43f4"
      },
      "outputs": [
        {
          "output_type": "stream",
          "name": "stdout",
          "text": [
            "Epoch 1/5\n",
            "50/50 [==============================] - 78s 1s/step - loss: 0.8463\n",
            "Epoch 2/5\n",
            "50/50 [==============================] - 74s 1s/step - loss: 0.4987\n",
            "Epoch 3/5\n",
            "50/50 [==============================] - 74s 1s/step - loss: 0.4971\n",
            "Epoch 4/5\n",
            "50/50 [==============================] - 74s 1s/step - loss: 0.4971\n",
            "Epoch 5/5\n",
            "50/50 [==============================] - 74s 1s/step - loss: 0.4979\n"
          ]
        },
        {
          "output_type": "execute_result",
          "data": {
            "text/plain": [
              "<keras.src.callbacks.History at 0x7c9760b6aaa0>"
            ]
          },
          "metadata": {},
          "execution_count": 13
        }
      ],
      "source": [
        "model.fit(data_generator(), steps_per_epoch=50, epochs=5)"
      ]
    },
    {
      "cell_type": "code",
      "execution_count": 26,
      "metadata": {
        "id": "j2bTr3RrVmCc"
      },
      "outputs": [],
      "source": [
        "def plot_predictions(object=object_img):\n",
        "  # generate a random image\n",
        "  img = np.zeros((H, W, 3))\n",
        "  row_0 = np.random.randint(0, H - CH_H)\n",
        "  col_0 = np.random.randint(0, W - CH_W)\n",
        "  row_1 = row_0 + CH_H\n",
        "  col_1 = col_0 + CH_W\n",
        "\n",
        "  img[row_0:row_1, col_0:col_1, :] = object[:, :, :3]\n",
        "\n",
        "  # make predictions\n",
        "  x = np.expand_dims(img, 0)\n",
        "  x_0, y_0, h, w = model.predict(x)[0]\n",
        "\n",
        "  x_0 =int(x_0 * H)\n",
        "  y_0 = int(y_0 * W)\n",
        "  x_1 = int(x_0 + h * H)\n",
        "  y_1 = int(y_0 + w * W)\n",
        "\n",
        "  print(\"true location: \", row_0, col_0, row_1, col_1)\n",
        "  print(\"preds: \", x_0, y_0, x_1, y_1)\n",
        "  # draw the box\n",
        "  cv2.rectangle(img, (y_0, x_0), (y_1, x_1), color=(255, 0, 0))\n",
        "  plt.imshow(img.astype(np.uint8))\n",
        "  plt.title(\"predicted location\")\n",
        "  plt.show()"
      ]
    },
    {
      "cell_type": "code",
      "execution_count": 29,
      "metadata": {
        "colab": {
          "base_uri": "https://localhost:8080/",
          "height": 504
        },
        "id": "qS5s1Rzqbmxo",
        "outputId": "de5b2492-5132-40b8-96bd-a56f43d9df4a"
      },
      "outputs": [
        {
          "output_type": "stream",
          "name": "stdout",
          "text": [
            "1/1 [==============================] - 0s 26ms/step\n",
            "true location:  72 129 128 173\n",
            "preds:  71 129 127 172\n"
          ]
        },
        {
          "output_type": "display_data",
          "data": {
            "text/plain": [
              "<Figure size 640x480 with 1 Axes>"
            ],
            "image/png": "[encoded data removed]"
          },
          "metadata": {}
        }
      ],
      "source": [
        "plot_predictions()"
      ]
    }
  ],
  "metadata": {
    "accelerator": "GPU",
    "colab": {
      "collapsed_sections": [
        "HUx06aMhTyzt"
      ],
      "provenance": [],
      "authorship_tag": "ABX9TyPCKAMIk3rnsHWEMj1HuGJj",
      "include_colab_link": true
    },
    "kernelspec": {
      "display_name": "Python 3",
      "name": "python3"
    },
    "language_info": {
      "name": "python"
    }
  },
  "nbformat": 4,
  "nbformat_minor": 0
}