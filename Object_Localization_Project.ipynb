{
  "cells": [
    {
      "cell_type": "markdown",
      "metadata": {
        "id": "view-in-github",
        "colab_type": "text"
      },
      "source": [
        "<a href=\"https://colab.research.google.com/github/iHev10/Object-Localization-from-scratch/blob/main/Object_Localization_Project.ipynb\" target=\"_parent\"><img src=\"https://colab.research.google.com/assets/colab-badge.svg\" alt=\"Open In Colab\"/></a>"
      ]
    },
    {
      "cell_type": "code",
      "execution_count": 8,
      "metadata": {
        "id": "yFHzXA40ra58"
      },
      "outputs": [],
      "source": [
        "# import libraries\n",
        "import numpy as np\n",
        "import pandas as pd\n",
        "import matplotlib.pyplot as plt\n",
        "\n",
        "from skimage.transform import resize\n",
        "\n",
        "import cv2\n",
        "\n",
        "import tensorflow as tf\n",
        "import keras\n",
        "\n",
        "from keras.preprocessing import image\n",
        "from keras.applications.vgg16 import VGG16\n",
        "from keras.layers import Dense, Flatten\n",
        "from keras.models import Model\n",
        "from keras.optimizers import Adam"
      ]
    },
    {
      "cell_type": "markdown",
      "metadata": {
        "id": "HUx06aMhTyzt"
      },
      "source": [
        "# Identify actual boxes"
      ]
    },
    {
      "cell_type": "code",
      "execution_count": null,
      "metadata": {
        "id": "uEJ-OOK5sJ8-"
      },
      "outputs": [],
      "source": [
        "def data_generator(batch_size=64):\n",
        "  # generate data\n",
        "  while True:\n",
        "\n",
        "    for _ in range(50):\n",
        "      # generate images and targets\n",
        "      x = np.zeros((batch_size, 100, 100, 3))\n",
        "      y = np.zeros((batch_size, 4))\n",
        "\n",
        "      for n in range(batch_size):\n",
        "        # make random boxes and store their locations\n",
        "        row_0 = np.random.randint(0, 90)\n",
        "        col_0 = np.random.randint(0, 90)\n",
        "        row_1 = np.random.randint(row_0, 100)\n",
        "        col_1 = np.random.randint(col_0, 100)\n",
        "\n",
        "        x[n, row_0:row_1, col_0:col_1, :] = 1\n",
        "\n",
        "        # normalize the cordinates\n",
        "        y[n, 0] = row_0 / 100. # top row\n",
        "        y[n, 1] = col_0 / 100. # left col\n",
        "        y[n, 2] = (row_1 - row_0) / 100. # height\n",
        "        y[n, 3] = (col_1 - col_0) / 100. # width\n",
        "\n",
        "      yield x, y"
      ]
    },
    {
      "cell_type": "code",
      "execution_count": null,
      "metadata": {
        "id": "ehLHqVMEvFKo"
      },
      "outputs": [],
      "source": [
        "# create the model\n",
        "vgg = VGG16(input_shape=(100, 100, 3), include_top=False, weights=\"imagenet\")\n",
        "x = Flatten()(vgg.output)\n",
        "x = Dense(4, activation=\"sigmoid\")(x)\n",
        "\n",
        "model = Model(vgg.input, x)\n",
        "model.compile(loss=\"binary_crossentropy\", optimizer=\"adam\")"
      ]
    },
    {
      "cell_type": "code",
      "execution_count": null,
      "metadata": {
        "colab": {
          "base_uri": "https://localhost:8080/"
        },
        "id": "LLsquAi5wPNW",
        "outputId": "8614bb6a-ee15-49b2-a6d0-247f2dc0c689"
      },
      "outputs": [
        {
          "name": "stdout",
          "output_type": "stream",
          "text": [
            "Epoch 1/10\n",
            "50/50 [==============================] - 14s 192ms/step - loss: 0.6056\n",
            "Epoch 2/10\n",
            "50/50 [==============================] - 10s 196ms/step - loss: 0.5165\n",
            "Epoch 3/10\n",
            "50/50 [==============================] - 10s 190ms/step - loss: 0.5098\n",
            "Epoch 4/10\n",
            "50/50 [==============================] - 10s 192ms/step - loss: 0.5063\n",
            "Epoch 5/10\n",
            "50/50 [==============================] - 9s 184ms/step - loss: 0.5057\n",
            "Epoch 6/10\n",
            "50/50 [==============================] - 9s 183ms/step - loss: 0.5074\n",
            "Epoch 7/10\n",
            "50/50 [==============================] - 9s 184ms/step - loss: 0.5051\n",
            "Epoch 8/10\n",
            "50/50 [==============================] - 9s 188ms/step - loss: 0.5036\n",
            "Epoch 9/10\n",
            "50/50 [==============================] - 9s 186ms/step - loss: 0.5046\n",
            "Epoch 10/10\n",
            "50/50 [==============================] - 9s 186ms/step - loss: 0.5022\n"
          ]
        },
        {
          "data": {
            "text/plain": [
              "<keras.src.callbacks.History at 0x7c4398219e10>"
            ]
          },
          "execution_count": 56,
          "metadata": {},
          "output_type": "execute_result"
        }
      ],
      "source": [
        "model.fit(data_generator(), steps_per_epoch=50, epochs=10)"
      ]
    },
    {
      "cell_type": "code",
      "execution_count": null,
      "metadata": {
        "id": "iKcFW7d0wXUW"
      },
      "outputs": [],
      "source": [
        "def plot_predictions():\n",
        "  # generate a random image\n",
        "  img = np.zeros((100, 100, 3))\n",
        "  row_0 = np.random.randint(0, 90)\n",
        "  col_0 = np.random.randint(0, 90)\n",
        "  row_1 = np.random.randint(row_0, 100)\n",
        "  col_1 = np.random.randint(col_0, 100)\n",
        "\n",
        "  img[row_0:row_1, col_0:col_1, :] = 1\n",
        "\n",
        "  # make predictions\n",
        "  x = np.expand_dims(img, 0)\n",
        "  x_0, y_0, h, w = model.predict(x)[0]\n",
        "\n",
        "  x_0 =int(x_0 * 100)\n",
        "  y_0 = int(y_0 * 100)\n",
        "  h = int(h * 100)\n",
        "  w = int(w * 100)\n",
        "\n",
        "  print(x_0, y_0, h, w)\n",
        "  # draw the box\n",
        "  cv2.rectangle(img, (y_0, x_0), (y_0 + w, x_0 + h), color=(255, 0, 0))\n",
        "  plt.imshow(img)\n",
        "  plt.title(\"predicted boxes\")\n"
      ]
    },
    {
      "cell_type": "code",
      "execution_count": null,
      "metadata": {
        "colab": {
          "base_uri": "https://localhost:8080/",
          "height": 504
        },
        "id": "oZORyKMj9h7v",
        "outputId": "7d3eeb26-2c16-4123-d8b4-cd100beb0394"
      },
      "outputs": [
        {
          "name": "stdout",
          "output_type": "stream",
          "text": [
            "1/1 [==============================] - 0s 19ms/step\n"
          ]
        },
        {
          "name": "stderr",
          "output_type": "stream",
          "text": [
            "WARNING:matplotlib.image:Clipping input data to the valid range for imshow with RGB data ([0..1] for floats or [0..255] for integers).\n"
          ]
        },
        {
          "name": "stdout",
          "output_type": "stream",
          "text": [
            "27 66 62 15\n"
          ]
        },
        {
          "data": {
            "image/png": "[encoded data removed]",
            "text/plain": [
              "<Figure size 640x480 with 1 Axes>"
            ]
          },
          "metadata": {},
          "output_type": "display_data"
        }
      ],
      "source": [
        "plot_predictions()"
      ]
    },
    {
      "cell_type": "markdown",
      "metadata": {
        "id": "NeQg3mHqT9qi"
      },
      "source": [
        "# Locate an actual object"
      ]
    },
    {
      "cell_type": "code",
      "execution_count": null,
      "metadata": {
        "colab": {
          "base_uri": "https://localhost:8080/"
        },
        "id": "jupRGV3jQ638",
        "outputId": "d245fd14-f7c8-44fa-baff-9e6dbf3cfb15"
      },
      "outputs": [
        {
          "output_type": "stream",
          "name": "stdout",
          "text": [
            "--2024-02-08 19:45:12--  https://lazyprogrammer.me/course_files/charmander-tight.png\n",
            "Resolving lazyprogrammer.me (lazyprogrammer.me)... 104.21.23.210, 172.67.213.166, 2606:4700:3031::6815:17d2, ...\n",
            "Connecting to lazyprogrammer.me (lazyprogrammer.me)|104.21.23.210|:443... connected.\n",
            "HTTP request sent, awaiting response... 200 OK\n",
            "Length: 3952 (3.9K) [image/png]\n",
            "Saving to: ‘charmander-tight.png’\n",
            "\n",
            "charmander-tight.pn 100%[===================>]   3.86K  --.-KB/s    in 0s      \n",
            "\n",
            "2024-02-08 19:45:13 (63.8 MB/s) - ‘charmander-tight.png’ saved [3952/3952]\n",
            "\n"
          ]
        }
      ],
      "source": [
        "# download a target image\n",
        "!wget -nc https://lazyprogrammer.me/course_files/charmander-tight.png"
      ]
    },
    {
      "cell_type": "code",
      "execution_count": null,
      "metadata": {
        "colab": {
          "base_uri": "https://localhost:8080/",
          "height": 449
        },
        "id": "LfhQcwqfI9Pt",
        "outputId": "7a7abec4-fe38-4e0e-c39a-b1110bffa5f7"
      },
      "outputs": [
        {
          "output_type": "execute_result",
          "data": {
            "text/plain": [
              "<matplotlib.image.AxesImage at 0x7c97e40a1540>"
            ]
          },
          "metadata": {},
          "execution_count": 3
        },
        {
          "output_type": "display_data",
          "data": {
            "text/plain": [
              "<Figure size 640x480 with 1 Axes>"
            ],
            "image/png": "[encoded data removed]"
          },
          "metadata": {}
        }
      ],
      "source": [
        "# load and show the object\n",
        "object_img = image.load_img(\"charmander-tight.png\")\n",
        "object_img = np.array(object_img)\n",
        "plt.imshow(object_img)"
      ]
    },
    {
      "cell_type": "code",
      "execution_count": null,
      "metadata": {
        "id": "7aMLA6WCOFLB"
      },
      "outputs": [],
      "source": [
        "H, W = 300, 300 # size of full image\n",
        "CH_H, CH_W = object_img.shape[:2] # size of object\n",
        "\n",
        "def data_generator(batch_size=64, object=object_img, H=H, W=W, CH_H=CH_H, CH_W=CH_W):\n",
        "\n",
        "  # generate data\n",
        "  while True:\n",
        "\n",
        "    for _ in range(50):\n",
        "      # generate images and targets\n",
        "      x = np.zeros((batch_size, H, W, 3))\n",
        "      y = np.zeros((batch_size, 4))\n",
        "\n",
        "      for n in range(batch_size):\n",
        "        # make an image with an object in a random location\n",
        "        row_0 = np.random.randint(0, H - CH_H)\n",
        "        col_0 = np.random.randint(0, W - CH_W)\n",
        "        row_1 = row_0 + CH_H\n",
        "        col_1 = col_0 + CH_W\n",
        "\n",
        "        x[n, row_0:row_1, col_0:col_1, :] = object[:, :, :3]\n",
        "\n",
        "        # normalize the cordinates\n",
        "        y[n, 0] = row_0 / H # top row\n",
        "        y[n, 1] = col_0 / W # left col\n",
        "        y[n, 2] = CH_H / H # height\n",
        "        y[n, 3] = CH_W / W # width\n",
        "\n",
        "      yield x, y"
      ]
    },
    {
      "cell_type": "code",
      "execution_count": null,
      "metadata": {
        "id": "6IShoRHdU3M_"
      },
      "outputs": [],
      "source": [
        "# create the model\n",
        "vgg = VGG16(input_shape=(H, W, 3), include_top=False, weights=\"imagenet\")\n",
        "x = Flatten()(vgg.output)\n",
        "x = Dense(4, activation=\"sigmoid\")(x)\n",
        "\n",
        "model = Model(vgg.input, x)\n",
        "model.compile(loss=\"binary_crossentropy\", optimizer=\"adam\")"
      ]
    },
    {
      "cell_type": "code",
      "execution_count": null,
      "metadata": {
        "colab": {
          "base_uri": "https://localhost:8080/"
        },
        "id": "ZdU6Cev-U6Kz",
        "outputId": "5683e01c-19c3-4771-ce17-b255bc9b43f4"
      },
      "outputs": [
        {
          "output_type": "stream",
          "name": "stdout",
          "text": [
            "Epoch 1/5\n",
            "50/50 [==============================] - 78s 1s/step - loss: 0.8463\n",
            "Epoch 2/5\n",
            "50/50 [==============================] - 74s 1s/step - loss: 0.4987\n",
            "Epoch 3/5\n",
            "50/50 [==============================] - 74s 1s/step - loss: 0.4971\n",
            "Epoch 4/5\n",
            "50/50 [==============================] - 74s 1s/step - loss: 0.4971\n",
            "Epoch 5/5\n",
            "50/50 [==============================] - 74s 1s/step - loss: 0.4979\n"
          ]
        },
        {
          "output_type": "execute_result",
          "data": {
            "text/plain": [
              "<keras.src.callbacks.History at 0x7c9760b6aaa0>"
            ]
          },
          "metadata": {},
          "execution_count": 13
        }
      ],
      "source": [
        "model.fit(data_generator(), steps_per_epoch=50, epochs=5)"
      ]
    },
    {
      "cell_type": "code",
      "execution_count": null,
      "metadata": {
        "id": "j2bTr3RrVmCc"
      },
      "outputs": [],
      "source": [
        "def plot_predictions(object=object_img):\n",
        "  # generate a random image\n",
        "  img = np.zeros((H, W, 3))\n",
        "  row_0 = np.random.randint(0, H - CH_H)\n",
        "  col_0 = np.random.randint(0, W - CH_W)\n",
        "  row_1 = row_0 + CH_H\n",
        "  col_1 = col_0 + CH_W\n",
        "\n",
        "  img[row_0:row_1, col_0:col_1, :] = object[:, :, :3]\n",
        "\n",
        "  # make predictions\n",
        "  x = np.expand_dims(img, 0)\n",
        "  x_0, y_0, h, w = model.predict(x)[0]\n",
        "\n",
        "  x_0 =int(x_0 * H)\n",
        "  y_0 = int(y_0 * W)\n",
        "  x_1 = int(x_0 + h * H)\n",
        "  y_1 = int(y_0 + w * W)\n",
        "\n",
        "  print(\"true location: \", row_0, col_0, row_1, col_1)\n",
        "  print(\"preds: \", x_0, y_0, x_1, y_1)\n",
        "  # draw the box\n",
        "  cv2.rectangle(img, (y_0, x_0), (y_1, x_1), color=(255, 0, 0))\n",
        "  plt.imshow(img.astype(np.uint8))\n",
        "  plt.title(\"predicted location\")\n",
        "  plt.show()"
      ]
    },
    {
      "cell_type": "code",
      "execution_count": null,
      "metadata": {
        "colab": {
          "base_uri": "https://localhost:8080/",
          "height": 504
        },
        "id": "qS5s1Rzqbmxo",
        "outputId": "de5b2492-5132-40b8-96bd-a56f43d9df4a"
      },
      "outputs": [
        {
          "output_type": "stream",
          "name": "stdout",
          "text": [
            "1/1 [==============================] - 0s 26ms/step\n",
            "true location:  72 129 128 173\n",
            "preds:  71 129 127 172\n"
          ]
        },
        {
          "output_type": "display_data",
          "data": {
            "text/plain": [
              "<Figure size 640x480 with 1 Axes>"
            ],
            "image/png": "[encoded data removed]"
          },
          "metadata": {}
        }
      ],
      "source": [
        "plot_predictions()"
      ]
    },
    {
      "cell_type": "markdown",
      "source": [
        "# Different size objects"
      ],
      "metadata": {
        "id": "8Mzdc3nu6gB-"
      }
    },
    {
      "cell_type": "code",
      "source": [
        "# download a target image\n",
        "!wget -nc https://lazyprogrammer.me/course_files/charmander-tight.png"
      ],
      "metadata": {
        "colab": {
          "base_uri": "https://localhost:8080/"
        },
        "id": "jvqaWNDT6mpW",
        "outputId": "e591543c-eda4-471a-cdef-879e354b73a6"
      },
      "execution_count": null,
      "outputs": [
        {
          "output_type": "stream",
          "name": "stdout",
          "text": [
            "--2024-02-09 10:11:23--  https://lazyprogrammer.me/course_files/charmander-tight.png\n",
            "Resolving lazyprogrammer.me (lazyprogrammer.me)... 104.21.23.210, 172.67.213.166, 2606:4700:3031::6815:17d2, ...\n",
            "Connecting to lazyprogrammer.me (lazyprogrammer.me)|104.21.23.210|:443... connected.\n",
            "HTTP request sent, awaiting response... 200 OK\n",
            "Length: 3952 (3.9K) [image/png]\n",
            "Saving to: ‘charmander-tight.png’\n",
            "\n",
            "\rcharmander-tight.pn   0%[                    ]       0  --.-KB/s               \rcharmander-tight.pn 100%[===================>]   3.86K  --.-KB/s    in 0s      \n",
            "\n",
            "2024-02-09 10:11:24 (75.8 MB/s) - ‘charmander-tight.png’ saved [3952/3952]\n",
            "\n"
          ]
        }
      ]
    },
    {
      "cell_type": "code",
      "source": [
        "# load and show the object\n",
        "object_img = image.load_img(\"charmander-tight.png\")\n",
        "object_img = np.array(object_img)\n",
        "plt.imshow(object_img)"
      ],
      "metadata": {
        "colab": {
          "base_uri": "https://localhost:8080/",
          "height": 449
        },
        "id": "A6Vffk0k6zfr",
        "outputId": "a5e1e4f4-504d-4664-d341-4f72663ef037"
      },
      "execution_count": null,
      "outputs": [
        {
          "output_type": "execute_result",
          "data": {
            "text/plain": [
              "<matplotlib.image.AxesImage at 0x7a13a4eeac20>"
            ]
          },
          "metadata": {},
          "execution_count": 3
        },
        {
          "output_type": "display_data",
          "data": {
            "text/plain": [
              "<Figure size 640x480 with 1 Axes>"
            ],
            "image/png": "[encoded data removed]"
          },
          "metadata": {}
        }
      ]
    },
    {
      "cell_type": "code",
      "source": [
        "H, W = 200, 200 # size of full image\n",
        "CH_H, CH_W = object_img.shape[:2] # size of object\n",
        "\n",
        "def data_generator_with_resize(batch_size=64, object=object_img, H=H, W=W, CH_H=CH_H, CH_W=CH_W):\n",
        "\n",
        "  # generate data\n",
        "  while True:\n",
        "\n",
        "    for _ in range(50):\n",
        "      # generate images and targets\n",
        "      x = np.zeros((batch_size, H, W, 3))\n",
        "      y = np.zeros((batch_size, 4))\n",
        "\n",
        "      for n in range(batch_size):\n",
        "        # randomly select scale factore\n",
        "        scale = 0.5 + np.random.random() # [0.5, 1.5]\n",
        "        # calculate new height and width\n",
        "        new_h, new_w = int(scale * CH_H), int(scale * CH_W)\n",
        "        # resize object\n",
        "        resized_object = resize(object, (new_h, new_w), preserve_range=True).astype(np.uint8)\n",
        "\n",
        "        # make an image with an object in a random location\n",
        "        row_0 = np.random.randint(0, H - new_h)\n",
        "        col_0 = np.random.randint(0, W - new_w)\n",
        "        row_1 = row_0 + new_h\n",
        "        col_1 = col_0 + new_w\n",
        "\n",
        "        x[n, row_0:row_1, col_0:col_1, :] = resized_object[:, :, :3]\n",
        "\n",
        "        # normalize the cordinates\n",
        "        y[n, 0] = row_0 / H # top row\n",
        "        y[n, 1] = col_0 / W # left col\n",
        "        y[n, 2] = (row_1 - row_0) / H # height\n",
        "        y[n, 3] = (col_1 - col_0) / W # width\n",
        "\n",
        "      yield x/255., y"
      ],
      "metadata": {
        "id": "zDn-I4tr65va"
      },
      "execution_count": null,
      "outputs": []
    },
    {
      "cell_type": "code",
      "source": [
        "# create the model\n",
        "vgg = VGG16(input_shape=(H, W, 3), include_top=False, weights=\"imagenet\")\n",
        "x = Flatten()(vgg.output)\n",
        "x = Dense(4, activation=\"sigmoid\")(x)\n",
        "\n",
        "model = Model(vgg.input, x)\n",
        "model.compile(loss=\"binary_crossentropy\", optimizer=Adam(learning_rate=0.001))"
      ],
      "metadata": {
        "id": "P7U9k--Y95ww",
        "colab": {
          "base_uri": "https://localhost:8080/"
        },
        "outputId": "c95da992-fb6c-4dea-9675-3f3eef911249"
      },
      "execution_count": null,
      "outputs": [
        {
          "output_type": "stream",
          "name": "stdout",
          "text": [
            "Downloading data from https://storage.googleapis.com/tensorflow/keras-applications/vgg16/vgg16_weights_tf_dim_ordering_tf_kernels_notop.h5\n",
            "58889256/58889256 [==============================] - 1s 0us/step\n"
          ]
        }
      ]
    },
    {
      "cell_type": "code",
      "source": [
        "model.fit(data_generator_with_resize(), steps_per_epoch=50, epochs=5)"
      ],
      "metadata": {
        "colab": {
          "base_uri": "https://localhost:8080/"
        },
        "id": "Hquw9czL9-FD",
        "outputId": "7c71e7ae-9d8f-48de-8db0-8a43e43f07df"
      },
      "execution_count": null,
      "outputs": [
        {
          "output_type": "stream",
          "name": "stdout",
          "text": [
            "Epoch 1/5\n",
            "50/50 [==============================] - 63s 588ms/step - loss: 0.9546\n",
            "Epoch 2/5\n",
            "50/50 [==============================] - 30s 595ms/step - loss: 0.5507\n",
            "Epoch 3/5\n",
            "50/50 [==============================] - 30s 606ms/step - loss: 0.5473\n",
            "Epoch 4/5\n",
            "50/50 [==============================] - 31s 614ms/step - loss: 0.5454\n",
            "Epoch 5/5\n",
            "50/50 [==============================] - 31s 619ms/step - loss: 0.5445\n"
          ]
        },
        {
          "output_type": "execute_result",
          "data": {
            "text/plain": [
              "<keras.src.callbacks.History at 0x7a14524dea40>"
            ]
          },
          "metadata": {},
          "execution_count": 6
        }
      ]
    },
    {
      "cell_type": "code",
      "source": [
        "def plot_predictions_with_resize(object=object_img):\n",
        "  # randomly select scale factore\n",
        "  scale = 0.5 + np.random.random() # [0.5, 1.5]\n",
        "  # calculate new height and width\n",
        "  new_h, new_w = int(scale * CH_H), int(scale * CH_W)\n",
        "  # resize object\n",
        "  resized_object = resize(object, (new_h, new_w), preserve_range=True).astype(np.uint8)\n",
        "\n",
        "  # generate a random image\n",
        "  img = np.zeros((H, W, 3))\n",
        "  row_0 = np.random.randint(0, H - new_h)\n",
        "  col_0 = np.random.randint(0, W - new_w)\n",
        "  row_1 = row_0 + new_h\n",
        "  col_1 = col_0 + new_w\n",
        "\n",
        "  img[row_0:row_1, col_0:col_1, :] = resized_object[:, :, :3]\n",
        "\n",
        "  # make predictions\n",
        "  x = np.expand_dims(img, 0) / 255.\n",
        "  x_0, y_0, h, w = model.predict(x)[0]\n",
        "\n",
        "  x_0 =int(x_0 * H)\n",
        "  y_0 = int(y_0 * W)\n",
        "  x_1 = int(x_0 + h * H)\n",
        "  y_1 = int(y_0 + w * W)\n",
        "\n",
        "  print(\"true location: \", row_0, col_0, row_1, col_1)\n",
        "  print(\"preds: \", x_0, y_0, x_1, y_1)\n",
        "  # draw the box\n",
        "  cv2.rectangle(img, (y_0, x_0), (y_1, x_1), color=(255, 0, 0))\n",
        "  plt.imshow(img.astype(np.uint8))\n",
        "  plt.title(\"predicted location\")\n",
        "  plt.show()"
      ],
      "metadata": {
        "id": "ouRGSY_B-C9d"
      },
      "execution_count": null,
      "outputs": []
    },
    {
      "cell_type": "code",
      "source": [
        "plot_predictions_with_resize()"
      ],
      "metadata": {
        "colab": {
          "base_uri": "https://localhost:8080/",
          "height": 504
        },
        "id": "dqWljcga-Wt4",
        "outputId": "faf22214-50f3-4131-be22-e51d995e7011"
      },
      "execution_count": null,
      "outputs": [
        {
          "output_type": "stream",
          "name": "stdout",
          "text": [
            "1/1 [==============================] - 0s 20ms/step\n",
            "true location:  111 73 153 106\n",
            "preds:  112 73 152 105\n"
          ]
        },
        {
          "output_type": "display_data",
          "data": {
            "text/plain": [
              "<Figure size 640x480 with 1 Axes>"
            ],
            "image/png": "[encoded data removed]"
          },
          "metadata": {}
        }
      ]
    },
    {
      "cell_type": "code",
      "source": [],
      "metadata": {
        "id": "VZlfd1jrJJJJ"
      },
      "execution_count": null,
      "outputs": []
    },
    {
      "cell_type": "markdown",
      "source": [
        "# Flipped objects"
      ],
      "metadata": {
        "id": "28pIUAIeRhb9"
      }
    },
    {
      "cell_type": "code",
      "source": [
        "# download a target image\n",
        "!wget -nc https://lazyprogrammer.me/course_files/charmander-tight.png"
      ],
      "metadata": {
        "colab": {
          "base_uri": "https://localhost:8080/"
        },
        "id": "6TQovrlyRoXd",
        "outputId": "9090df4a-975c-4613-afbe-1da7cf8cf650"
      },
      "execution_count": 2,
      "outputs": [
        {
          "output_type": "stream",
          "name": "stdout",
          "text": [
            "--2024-02-09 14:30:57--  https://lazyprogrammer.me/course_files/charmander-tight.png\n",
            "Resolving lazyprogrammer.me (lazyprogrammer.me)... 172.67.213.166, 104.21.23.210, 2606:4700:3031::6815:17d2, ...\n",
            "Connecting to lazyprogrammer.me (lazyprogrammer.me)|172.67.213.166|:443... connected.\n",
            "HTTP request sent, awaiting response... 200 OK\n",
            "Length: 3952 (3.9K) [image/png]\n",
            "Saving to: ‘charmander-tight.png’\n",
            "\n",
            "charmander-tight.pn 100%[===================>]   3.86K  --.-KB/s    in 0s      \n",
            "\n",
            "2024-02-09 14:30:57 (35.6 MB/s) - ‘charmander-tight.png’ saved [3952/3952]\n",
            "\n"
          ]
        }
      ]
    },
    {
      "cell_type": "code",
      "source": [
        "# load and show the object\n",
        "object_img = image.load_img(\"charmander-tight.png\")\n",
        "object_img = np.array(object_img)\n",
        "plt.imshow(object_img)"
      ],
      "metadata": {
        "colab": {
          "base_uri": "https://localhost:8080/",
          "height": 449
        },
        "id": "FATXmmjdR15E",
        "outputId": "ae8ede7e-3ade-4c68-a247-8fa8d71e6b4e"
      },
      "execution_count": 3,
      "outputs": [
        {
          "output_type": "execute_result",
          "data": {
            "text/plain": [
              "<matplotlib.image.AxesImage at 0x7a06796e4f10>"
            ]
          },
          "metadata": {},
          "execution_count": 3
        },
        {
          "output_type": "display_data",
          "data": {
            "text/plain": [
              "<Figure size 640x480 with 1 Axes>"
            ],
            "image/png": "[encoded data removed]"
          },
          "metadata": {}
        }
      ]
    },
    {
      "cell_type": "code",
      "source": [
        "H, W = 200, 200 # size of full image\n",
        "CH_H, CH_W = object_img.shape[:2] # size of object\n",
        "\n",
        "def data_generator_flipped(batch_size=64, object=object_img, H=H, W=W, CH_H=CH_H, CH_W=CH_W):\n",
        "\n",
        "  # generate data\n",
        "  while True:\n",
        "\n",
        "    for _ in range(50):\n",
        "      # generate images and targets\n",
        "      x = np.zeros((batch_size, H, W, 3))\n",
        "      y = np.zeros((batch_size, 4))\n",
        "\n",
        "      for n in range(batch_size):\n",
        "        # randomly select scale factore\n",
        "        scale = 0.5 + np.random.random() # [0.5, 1.5]\n",
        "        # calculate new height and width\n",
        "        new_h, new_w = int(scale * CH_H), int(scale * CH_W)\n",
        "        # resize object\n",
        "        resized_object = resize(object, (new_h, new_w), preserve_range=True).astype(np.uint8)\n",
        "\n",
        "        # make an image with an object in a random location\n",
        "        row_0 = np.random.randint(0, H - new_h)\n",
        "        col_0 = np.random.randint(0, W - new_w)\n",
        "        row_1 = row_0 + new_h\n",
        "        col_1 = col_0 + new_w\n",
        "\n",
        "        # flip object\n",
        "        if np.random.random() < 0.5:\n",
        "          obj = np.fliplr(resized_object)\n",
        "        else:\n",
        "          obj = resized_object\n",
        "\n",
        "        x[n, row_0:row_1, col_0:col_1, :] = obj[:, :, :3]\n",
        "\n",
        "        # normalize the cordinates\n",
        "        y[n, 0] = row_0 / H # top row\n",
        "        y[n, 1] = col_0 / W # left col\n",
        "        y[n, 2] = (row_1 - row_0) / H # height\n",
        "        y[n, 3] = (col_1 - col_0) / W # width\n",
        "\n",
        "      yield x/255., y"
      ],
      "metadata": {
        "id": "5SrjlA7yR70_"
      },
      "execution_count": 4,
      "outputs": []
    },
    {
      "cell_type": "code",
      "source": [
        "# create the model\n",
        "vgg = VGG16(input_shape=(H, W, 3), include_top=False, weights=\"imagenet\")\n",
        "x = Flatten()(vgg.output)\n",
        "x = Dense(4, activation=\"sigmoid\")(x)\n",
        "\n",
        "model = Model(vgg.input, x)\n",
        "model.compile(loss=\"binary_crossentropy\", optimizer=Adam(learning_rate=0.001))"
      ],
      "metadata": {
        "colab": {
          "base_uri": "https://localhost:8080/"
        },
        "id": "JuYudRVfTYP8",
        "outputId": "7b068e11-25e8-4b5d-992e-86ec768bbffd"
      },
      "execution_count": 5,
      "outputs": [
        {
          "output_type": "stream",
          "name": "stdout",
          "text": [
            "Downloading data from https://storage.googleapis.com/tensorflow/keras-applications/vgg16/vgg16_weights_tf_dim_ordering_tf_kernels_notop.h5\n",
            "58889256/58889256 [==============================] - 0s 0us/step\n"
          ]
        }
      ]
    },
    {
      "cell_type": "code",
      "source": [
        "model.fit(data_generator_flipped(), steps_per_epoch=50, epochs=3)"
      ],
      "metadata": {
        "colab": {
          "base_uri": "https://localhost:8080/"
        },
        "id": "1pr0Zw7RTeZo",
        "outputId": "d42eda0e-3647-49b0-ef2b-870f449dc549"
      },
      "execution_count": 9,
      "outputs": [
        {
          "output_type": "stream",
          "name": "stdout",
          "text": [
            "Epoch 1/2\n",
            "50/50 [==============================] - 5037s 101s/step - loss: 0.5820\n",
            "Epoch 2/2\n",
            "50/50 [==============================] - 5051s 101s/step - loss: 0.5525\n"
          ]
        },
        {
          "output_type": "execute_result",
          "data": {
            "text/plain": [
              "<keras.src.callbacks.History at 0x7a07266a1750>"
            ]
          },
          "metadata": {},
          "execution_count": 9
        }
      ]
    },
    {
      "cell_type": "code",
      "source": [
        "def plot_predictions_flipped(object=object_img):\n",
        "  # randomly select scale factore\n",
        "  scale = 0.5 + np.random.random() # [0.5, 1.5]\n",
        "  # calculate new height and width\n",
        "  new_h, new_w = int(scale * CH_H), int(scale * CH_W)\n",
        "  # resize object\n",
        "  resized_object = resize(object, (new_h, new_w), preserve_range=True).astype(np.uint8)\n",
        "\n",
        "  # generate a random image\n",
        "  img = np.zeros((H, W, 3))\n",
        "  row_0 = np.random.randint(0, H - new_h)\n",
        "  col_0 = np.random.randint(0, W - new_w)\n",
        "  row_1 = row_0 + new_h\n",
        "  col_1 = col_0 + new_w\n",
        "\n",
        "  # flip object\n",
        "  if np.random.random() < 0.5:\n",
        "    obj = np.fliplr(resized_object)\n",
        "  else:\n",
        "    obj = resized_object\n",
        "\n",
        "  img[row_0:row_1, col_0:col_1, :] = obj[:, :, :3]\n",
        "\n",
        "  # make predictions\n",
        "  x = np.expand_dims(img, 0) / 255.\n",
        "  x_0, y_0, h, w = model.predict(x)[0]\n",
        "\n",
        "  x_0 =int(x_0 * H)\n",
        "  y_0 = int(y_0 * W)\n",
        "  x_1 = int(x_0 + h * H)\n",
        "  y_1 = int(y_0 + w * W)\n",
        "\n",
        "  print(\"true location: \", row_0, col_0, row_1, col_1)\n",
        "  print(\"preds: \", x_0, y_0, x_1, y_1)\n",
        "  # draw the box\n",
        "  cv2.rectangle(img, (y_0, x_0), (y_1, x_1), color=(255, 0, 0))\n",
        "  plt.imshow(img.astype(np.uint8))\n",
        "  plt.title(\"predicted location\")\n",
        "  plt.show()"
      ],
      "metadata": {
        "id": "HMn87rN6Tj-x"
      },
      "execution_count": 10,
      "outputs": []
    },
    {
      "cell_type": "code",
      "source": [
        "plot_predictions_flipped()"
      ],
      "metadata": {
        "colab": {
          "base_uri": "https://localhost:8080/",
          "height": 504
        },
        "id": "9_sMfthvUCTP",
        "outputId": "f28e27e6-77ee-45ea-c2f2-a2d0b84cbc62"
      },
      "execution_count": 22,
      "outputs": [
        {
          "output_type": "stream",
          "name": "stdout",
          "text": [
            "1/1 [==============================] - 0s 436ms/step\n",
            "true location:  85 121 145 168\n",
            "preds:  85 125 141 175\n"
          ]
        },
        {
          "output_type": "display_data",
          "data": {
            "text/plain": [
              "<Figure size 640x480 with 1 Axes>"
            ],
            "image/png": "[encoded data removed]"
          },
          "metadata": {}
        }
      ]
    }
  ],
  "metadata": {
    "colab": {
      "collapsed_sections": [
        "HUx06aMhTyzt",
        "NeQg3mHqT9qi",
        "8Mzdc3nu6gB-"
      ],
      "provenance": [],
      "authorship_tag": "ABX9TyNAQvYot7EkqkXDvY9Y0wnN",
      "include_colab_link": true
    },
    "kernelspec": {
      "display_name": "Python 3",
      "name": "python3"
    },
    "language_info": {
      "name": "python"
    }
  },
  "nbformat": 4,
  "nbformat_minor": 0
}